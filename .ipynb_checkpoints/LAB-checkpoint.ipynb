{
 "cells": [
  {
   "cell_type": "code",
   "execution_count": 2,
   "id": "2687c0b3",
   "metadata": {},
   "outputs": [
    {
     "name": "stderr",
     "output_type": "stream",
     "text": [
      "/var/folders/5y/_5l3y2p900scjg2bd7r52_lh0000gn/T/ipykernel_9606/4224856437.py:2: DtypeWarning: Columns (8) have mixed types. Specify dtype option on import or set low_memory=False.\n",
      "  df = pd.read_csv('/Users/suso/BootcampDA/Unit7/data_7.01_activities/files_for_activities/learningSet.csv.zip')\n"
     ]
    }
   ],
   "source": [
    "import pandas as pd\n",
    "df = pd.read_csv('/Users/suso/BootcampDA/Unit7/data_7.01_activities/files_for_activities/learningSet.csv.zip')"
   ]
  },
  {
   "cell_type": "code",
   "execution_count": 3,
   "id": "d7372658",
   "metadata": {},
   "outputs": [
    {
     "name": "stdout",
     "output_type": "stream",
     "text": [
      "ODATEDW       0\n",
      "OSOURCE       0\n",
      "TCODE         0\n",
      "STATE         0\n",
      "ZIP           0\n",
      "           ... \n",
      "MDMAUD_R      0\n",
      "MDMAUD_F      0\n",
      "MDMAUD_A      0\n",
      "CLUSTER2    132\n",
      "GEOCODE2    132\n",
      "Length: 481, dtype: int64\n"
     ]
    }
   ],
   "source": [
    "# Check for null values in all the columns\n",
    "\n",
    "null_values = df.isnull().sum()\n",
    "print(null_values)"
   ]
  },
  {
   "cell_type": "code",
   "execution_count": 5,
   "id": "8b5eab88",
   "metadata": {},
   "outputs": [],
   "source": [
    "# Exclude the following variables by looking at the definitions. Create a new empty list called drop_list. We will append this list and then drop all the columns in this list later:\n",
    "\n",
    "drop_list = []\n",
    "\n",
    "drop_list.append('OSOURCE')\n",
    "drop_list.append('ZIP')\n",
    "\n",
    "df = df.drop(drop_list, axis=1)"
   ]
  },
  {
   "cell_type": "code",
   "execution_count": 6,
   "id": "ebf94edf",
   "metadata": {},
   "outputs": [
    {
     "name": "stdout",
     "output_type": "stream",
     "text": [
      "NUMCHLD     87.018404\n",
      "RDATE_3     99.746363\n",
      "RDATE_4     99.705488\n",
      "RDATE_5     99.990567\n",
      "RDATE_6     99.186685\n",
      "RDATE_7     90.677273\n",
      "RDATE_10    89.035970\n",
      "RDATE_13    87.160944\n",
      "RDATE_15    92.388798\n",
      "RDATE_17    90.146942\n",
      "RDATE_20    91.732696\n",
      "RDATE_21    90.029556\n",
      "RDATE_23    91.763091\n",
      "RAMNT_3     99.746363\n",
      "RAMNT_4     99.705488\n",
      "RAMNT_5     99.990567\n",
      "RAMNT_6     99.186685\n",
      "RAMNT_7     90.677273\n",
      "RAMNT_10    89.035970\n",
      "RAMNT_13    87.160944\n",
      "RAMNT_15    92.388798\n",
      "RAMNT_17    90.146942\n",
      "RAMNT_20    91.732696\n",
      "RAMNT_21    90.029556\n",
      "RAMNT_23    91.763091\n",
      "dtype: float64\n"
     ]
    }
   ],
   "source": [
    "# Identify columns that over 85% missing values\n",
    "\n",
    "missing_percentage = df.isnull().mean() * 100\n",
    "\n",
    "columns_over_85_percent_missing = missing_percentage[missing_percentage > 85]\n",
    "\n",
    "print(columns_over_85_percent_missing)"
   ]
  },
  {
   "cell_type": "code",
   "execution_count": 7,
   "id": "924760f6",
   "metadata": {},
   "outputs": [],
   "source": [
    "# Remove those columns from the dataframe\n",
    "\n",
    "df = df.drop(columns_over_85_percent_missing.index, axis=1)"
   ]
  },
  {
   "cell_type": "code",
   "execution_count": 9,
   "id": "794e7c8a",
   "metadata": {},
   "outputs": [
    {
     "name": "stdout",
     "output_type": "stream",
     "text": [
      "GENDER\n",
      "F    51277\n",
      "M    39094\n",
      "      2957\n",
      "U     1715\n",
      "J      365\n",
      "C        2\n",
      "A        2\n",
      "Name: count, dtype: int64\n"
     ]
    }
   ],
   "source": [
    "print(df['GENDER'].value_counts())\n",
    "df['GENDER'] = df['GENDER'].fillna('F')\n",
    "\n",
    "df['GENDER'] = df['GENDER'].apply(lambda x: 'M' if x == 'M' else ('F' if x == 'F' else 'other'))"
   ]
  },
  {
   "cell_type": "code",
   "execution_count": 11,
   "id": "b7497cf4",
   "metadata": {},
   "outputs": [
    {
     "data": {
      "text/plain": [
       "GENDER\n",
       "F        51277\n",
       "M        39094\n",
       "other     5041\n",
       "Name: count, dtype: int64"
      ]
     },
     "execution_count": 11,
     "metadata": {},
     "output_type": "execute_result"
    }
   ],
   "source": [
    "df['GENDER'].value_counts()"
   ]
  },
  {
   "cell_type": "code",
   "execution_count": null,
   "id": "498b4b73",
   "metadata": {},
   "outputs": [],
   "source": []
  }
 ],
 "metadata": {
  "kernelspec": {
   "display_name": "Python 3 (ipykernel)",
   "language": "python",
   "name": "python3"
  },
  "language_info": {
   "codemirror_mode": {
    "name": "ipython",
    "version": 3
   },
   "file_extension": ".py",
   "mimetype": "text/x-python",
   "name": "python",
   "nbconvert_exporter": "python",
   "pygments_lexer": "ipython3",
   "version": "3.11.5"
  }
 },
 "nbformat": 4,
 "nbformat_minor": 5
}
